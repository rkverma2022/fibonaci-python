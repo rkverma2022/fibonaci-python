{
 "cells": [
  {
   "cell_type": "code",
   "execution_count": 1,
   "id": "4d5a1b46",
   "metadata": {},
   "outputs": [
    {
     "ename": "ModuleNotFoundError",
     "evalue": "No module named 'tensorflow'",
     "output_type": "error",
     "traceback": [
      "\u001b[1;31m---------------------------------------------------------------------------\u001b[0m",
      "\u001b[1;31mModuleNotFoundError\u001b[0m                       Traceback (most recent call last)",
      "Cell \u001b[1;32mIn[1], line 1\u001b[0m\n\u001b[1;32m----> 1\u001b[0m \u001b[39mimport\u001b[39;00m \u001b[39mtensorflow\u001b[39;00m \u001b[39mas\u001b[39;00m \u001b[39mtf\u001b[39;00m\n",
      "\u001b[1;31mModuleNotFoundError\u001b[0m: No module named 'tensorflow'"
     ]
    }
   ],
   "source": [
    "import tensorflow as tf\n"
   ]
  },
  {
   "cell_type": "code",
   "execution_count": 2,
   "id": "e140d7d2",
   "metadata": {},
   "outputs": [
    {
     "data": {
      "text/plain": [
       "Size(width=1920, height=1080)"
      ]
     },
     "execution_count": 2,
     "metadata": {},
     "output_type": "execute_result"
    }
   ],
   "source": [
    "import pyautogui\n",
    "pyautogui.size()\n"
   ]
  },
  {
   "cell_type": "code",
   "execution_count": null,
   "id": "1310e893",
   "metadata": {},
   "outputs": [
    {
     "data": {
      "text/plain": [
       "'OK'"
      ]
     },
     "execution_count": 8,
     "metadata": {},
     "output_type": "execute_result"
    }
   ],
   "source": [
    "import pyautogui\n",
    "with pyautogui.hold('shift'):\n",
    "    pyautogui.press(['left','left','left','left'])\n",
    "pyautogui.alert('What to do')\n",
    "    "
   ]
  },
  {
   "cell_type": "code",
   "execution_count": null,
   "id": "9adb3b09",
   "metadata": {},
   "outputs": [],
   "source": [
    "import pyautogui\n",
    "import time\n",
    "time.sleep(15)\n",
    "distance = 200\n",
    "while distance > 0:\n",
    "        pyautogui.drag(distance, 0, duration=0.5)   # move right\n",
    "        distance -= 5\n",
    "        pyautogui.drag(0, distance, duration=0.5)   # move down\n",
    "        pyautogui.drag(-distance, 0, duration=0.5)  # move left\n",
    "        distance -= 5\n",
    "        pyautogui.drag(0, -distance, duration=0.5)  # move up"
   ]
  },
  {
   "cell_type": "code",
   "execution_count": null,
   "id": "e5671805",
   "metadata": {},
   "outputs": [],
   "source": [
    "import pyautogui\n",
    "import time\n",
    "time.sleep(10)\n",
    "height = 300\n",
    "width = 50\n",
    "while height>0:\n",
    "    pyautogui.drag(0,height,duration=0.3) # move up\n",
    "    height-= 10\n",
    "    pyautogui.drag(width,0,duration=0.3) # move right\n",
    "    width -= 7\n",
    "    pyautogui.drag(0,-height, duration=0.3) # move down\n",
    "    height -= 10\n",
    "    pyautogui.drag(-width,0, duration = 0.3) # move left\n",
    "    "
   ]
  },
  {
   "cell_type": "code",
   "execution_count": null,
   "id": "48192317",
   "metadata": {},
   "outputs": [
    {
     "name": "stdout",
     "output_type": "stream",
     "text": [
      "OK\n"
     ]
    }
   ],
   "source": [
    "import pyautogui \n",
    "pyautogui.alert(text='Copy It?', title='ctrl + c', button='OK')\n",
    "pyautogui.confirm(text='COPY', title='ctrl + c', buttons = ['OK', 'cancel'])\n"
   ]
  },
  {
   "cell_type": "code",
   "execution_count": null,
   "id": "77841a52",
   "metadata": {},
   "outputs": [],
   "source": [
    "import pyautogui\n",
    "# pyautogui.prompt(text='', title='' , default=['OK', 'cancel'])\n",
    "# import pyautogui\n",
    "im1 = pyautogui.screenshot()\n",
    "im2 = pyautogui.screenshot('my_screenshot.png')\n"
   ]
  },
  {
   "cell_type": "code",
   "execution_count": null,
   "id": "2fc431f4",
   "metadata": {},
   "outputs": [
    {
     "data": {
      "text/plain": [
       "(255, 255, 255)"
      ]
     },
     "execution_count": 3,
     "metadata": {},
     "output_type": "execute_result"
    }
   ],
   "source": [
    "import pyautogui\n",
    "im = pyautogui.screenshot()\n",
    "im.getpixel()"
   ]
  },
  {
   "cell_type": "code",
   "execution_count": null,
   "id": "dd7fc8cd",
   "metadata": {},
   "outputs": [
    {
     "name": "stdout",
     "output_type": "stream",
     "text": [
      "None\n"
     ]
    }
   ],
   "source": [
    "import pyautogui\n",
    "button7location = pyautogui.locateOnScreen('my_screenshot.png', grayscale=True)\n",
    "print(button7location)"
   ]
  },
  {
   "cell_type": "code",
   "execution_count": null,
   "id": "efff03fc",
   "metadata": {},
   "outputs": [],
   "source": []
  }
 ],
 "metadata": {
  "kernelspec": {
   "display_name": "Python 3",
   "language": "python",
   "name": "python3"
  },
  "language_info": {
   "codemirror_mode": {
    "name": "ipython",
    "version": 3
   },
   "file_extension": ".py",
   "mimetype": "text/x-python",
   "name": "python",
   "nbconvert_exporter": "python",
   "pygments_lexer": "ipython3",
   "version": "3.11.1"
  },
  "vscode": {
   "interpreter": {
    "hash": "5238573367df39f7286bb46f9ff5f08f63a01a80960060ce41e3c79b190280fa"
   }
  }
 },
 "nbformat": 4,
 "nbformat_minor": 5
}
